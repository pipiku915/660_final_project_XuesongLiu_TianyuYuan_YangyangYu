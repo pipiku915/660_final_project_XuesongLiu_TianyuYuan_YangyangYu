{
 "cells": [
  {
   "cell_type": "code",
   "execution_count": null,
   "metadata": {},
   "outputs": [],
   "source": [
    "# ***************code description -- Part 4**********************#\n",
    "# 1 bug fixed:\n",
    "# some journal names spell differently in SJR and original file, \n",
    "# sync up the journal names on both side, to ensure as many jornals got matched as possible\n",
    "\n",
    "#  after run the code below, output file 'Final_author_list_withRK_0506_5.csv' is generated."
   ]
  },
  {
   "cell_type": "code",
   "execution_count": 30,
   "metadata": {},
   "outputs": [],
   "source": [
    "import pandas as pd\n",
    "import re\n",
    "# import pandasql as ps"
   ]
  },
  {
   "cell_type": "code",
   "execution_count": 31,
   "metadata": {},
   "outputs": [
    {
     "name": "stdout",
     "output_type": "stream",
     "text": [
      "   Unnamed: 0                                           title_CR  \\\n",
      "0           0  From belief to deceit: How expectancies about ...   \n",
      "1           1  (Pre)occupations: A data-driven model of jobs ...   \n",
      "2           2  CEOs imbue organizations with feelings, increa...   \n",
      "3           3  Simultaneous ingroup and outgroup favoritism i...   \n",
      "4           4  Representing other minds: Mental state referen...   \n",
      "\n",
      "  author_last_CR author_first_CR  pub_year_CR                      DOI_CR  \\\n",
      "0          Mason        Malia F.         2018  10.1016/j.jesp.2018.02.013   \n",
      "1         Imhoff          Roland         2018  10.1016/j.jesp.2018.04.001   \n",
      "2           Tang          Simone         2018  10.1016/j.jesp.2018.06.002   \n",
      "3            Axt       Jordan R.         2018  10.1016/j.jesp.2018.08.007   \n",
      "4        McClung  Jennifer Susan         2018  10.1016/j.jesp.2017.11.013   \n",
      "\n",
      "     ISSN_CR                             publication_CR         pub_short  \\\n",
      "0  0022-1031  Journal of Experimental Social Psychology  JournExpSocPsych   \n",
      "1  0022-1031  Journal of Experimental Social Psychology  JournExpSocPsych   \n",
      "2  0022-1031  Journal of Experimental Social Psychology  JournExpSocPsych   \n",
      "3  0022-1031  Journal of Experimental Social Psychology  JournExpSocPsych   \n",
      "4  0022-1031  Journal of Experimental Social Psychology  JournExpSocPsych   \n",
      "\n",
      "                        publication_standard  ... Psychology_H_index  \\\n",
      "0  Journal of Experimental Social Psychology  ...              125.0   \n",
      "1  Journal of Experimental Social Psychology  ...              125.0   \n",
      "2  Journal of Experimental Social Psychology  ...              125.0   \n",
      "3  Journal of Experimental Social Psychology  ...              125.0   \n",
      "4  Journal of Experimental Social Psychology  ...              125.0   \n",
      "\n",
      "   Psychology_Rank Public_Admin_H_index Public_Admin_Rank Education_H_index  \\\n",
      "0             76.0                  NaN               NaN               NaN   \n",
      "1             76.0                  NaN               NaN               NaN   \n",
      "2             76.0                  NaN               NaN               NaN   \n",
      "3             76.0                  NaN               NaN               NaN   \n",
      "4             76.0                  NaN               NaN               NaN   \n",
      "\n",
      "  Education_Rank Sociology_PoliticalSci_H_index Sociology_PoliticalSci_Rank  \\\n",
      "0            NaN                          125.0                        59.0   \n",
      "1            NaN                          125.0                        59.0   \n",
      "2            NaN                          125.0                        59.0   \n",
      "3            NaN                          125.0                        59.0   \n",
      "4            NaN                          125.0                        59.0   \n",
      "\n",
      "  Demography_H_index Demography_Rank  \n",
      "0                NaN             NaN  \n",
      "1                NaN             NaN  \n",
      "2                NaN             NaN  \n",
      "3                NaN             NaN  \n",
      "4                NaN             NaN  \n",
      "\n",
      "[5 rows x 158 columns]\n",
      "2804\n"
     ]
    }
   ],
   "source": [
    "final_df = pd.read_csv('final_author_list_withRanking_0506.csv')\n",
    "print(final_df.head(5))\n",
    "print(len(final_df))"
   ]
  },
  {
   "cell_type": "code",
   "execution_count": null,
   "metadata": {},
   "outputs": [],
   "source": [
    "# ***************code description -- Part 4**********************#\n",
    "# 1 task is completed in this part:\n",
    "#add journal ranking and journal h-index for each paper into final file \n",
    "# the data merging is conducted using the full name hard-matching of the journal names.\n",
    "\n",
    "#  after run the code below, output file 'final_author_list_withRanking_0428.csv' is generated."
   ]
  },
  {
   "cell_type": "code",
   "execution_count": 32,
   "metadata": {},
   "outputs": [],
   "source": [
    "final_df = final_df.drop(['Unnamed: 0'] , axis='columns')"
   ]
  },
  {
   "cell_type": "code",
   "execution_count": 33,
   "metadata": {},
   "outputs": [
    {
     "name": "stdout",
     "output_type": "stream",
     "text": [
      "['title_CR', 'author_last_CR', 'author_first_CR', 'pub_year_CR', 'DOI_CR', 'ISSN_CR', 'publication_CR', 'pub_short', 'publication_standard', 'paper_id', 'source_WOS', 'author_full', 'title_WOS', 'publication_WOS', 'language', 'keywords', 'keywords_plus', 'abstract', 'author_address', 'reprint_address', 'author_email', 'funding', 'publisher', 'publisher_address', 'ISSN_WOS', 'eISSN', 'pub_year_WOS', 'volume', 'issue', 'DOI_WOS', 'WOS_category', 'category', 'accession_number', 'pg', 'author_last_WOS', 'author_first_WOS', 'published', 'pdf_filename', 'claim2_abstract', 'coded_claim2', 'claim2_pg', 'claim2_start', 'claim2_box', 'claim3a_concretehyp', 'coded_claim3a', 'claim3a_pg', 'claim3a_start', 'claim3a_box', 'claim3b_testspec', 'coded_claim3b', 'claim3b_pg', 'claim3b_start', 'claim3b_box', 'claim4_inftest', 'coded_claim4', 'claim4_pg', 'claim4_start', 'claim4_box', 'sample_size', 'coded_sample_size', 'sample_size_pg', 'sample_size_start', 'sample_size_box', 'effect_size', 'coded_effect_size', 'effect_size_pg', 'effect_size_start', 'effect_size_box', 'p_value', 'coded_p_value', 'p_value_pg', 'p_value_start', 'p_value_box', 'corr_author', 'corr_email', 'version', 'xml', 'pdf', 'paper_ABSTRACT_VIEWS', 'paper_BOOKMARK_COUNT', 'paper_DOWNLOAD_COUNT', 'paper_EXPORTS_SAVES', 'paper_FULL_TEXT_VIEWS', 'paper_LINK_CLICK_COUNT', 'paper_LINK_OUTS', 'paper_READER_COUNT', 'paper_capture', 'paper_citation', 'paper_mention', 'paper_socialMedia', 'paper_usage', 'eid', 'paper_title', 'paper_creator', 'afid', 'affilname', 'affiliation_city', 'affiliation_country', 'paper_author_count', 'paper_author_names', 'paper_author_ids', 'paper_author_afids', 'paper_coverDate', 'paper_publicationName', 'paper_issn', 'paper_eIssn', 'paper_description', 'paper_authkeywords', 'paper_citedby_count', 'paper_openaccess', 'paper_fund_acr', 'paper_fund_no', 'paper_fund_sponsor', 'FirstAuthor_ID', 'FirstAuthor_AffiliationID', 'Current_Affiliation_Domain', 'author', 'author_firstName', 'author_lastName', 'author_citation_count', 'author_cited_by_count', 'author_document_count', 'author_h_index', 'history_affiliation_city', 'history_affiliation_country', 'history_affiliation_name', 'history_affiliation_org_URL', 'jounal_history_ISSN', 'jounal_history_name', 'FirstAuthor_Affiliation_Name', 'FirstAuthor_Affiliation_City', 'FirstAuthor_Affiliation_Country', 'Record_Index', 'CWUR_World_rank', 'CWUR_National_Rank', 'CWUR_Education_Quality', 'CWUR_Alumni_Employment', 'CWUR_Faculty_Quality', 'CWUR_Research_Performance', 'CWUR_Institution_Name', 'CWUR_Institution_country', 'Econ_Finance_H_index', 'Econ_Finance_Rank', 'Business_Management_H_index', 'Business_Management_Rank', 'Social_Sciences_H_index', 'Social_Sciences_Rank', 'Psychology_H_index', 'Psychology_Rank', 'Public_Admin_H_index', 'Public_Admin_Rank', 'Education_H_index', 'Education_Rank', 'Sociology_PoliticalSci_H_index', 'Sociology_PoliticalSci_Rank', 'Demography_H_index', 'Demography_Rank']\n"
     ]
    }
   ],
   "source": [
    "print(list(final_df.columns))"
   ]
  },
  {
   "cell_type": "code",
   "execution_count": 34,
   "metadata": {},
   "outputs": [
    {
     "name": "stderr",
     "output_type": "stream",
     "text": [
      "/Library/Frameworks/Python.framework/Versions/3.7/lib/python3.7/site-packages/ipykernel_launcher.py:1: SettingWithCopyWarning: \n",
      "A value is trying to be set on a copy of a slice from a DataFrame\n",
      "\n",
      "See the caveats in the documentation: http://pandas.pydata.org/pandas-docs/stable/user_guide/indexing.html#returning-a-view-versus-a-copy\n",
      "  \"\"\"Entry point for launching an IPython kernel.\n",
      "/Library/Frameworks/Python.framework/Versions/3.7/lib/python3.7/site-packages/ipykernel_launcher.py:2: SettingWithCopyWarning: \n",
      "A value is trying to be set on a copy of a slice from a DataFrame\n",
      "\n",
      "See the caveats in the documentation: http://pandas.pydata.org/pandas-docs/stable/user_guide/indexing.html#returning-a-view-versus-a-copy\n",
      "  \n"
     ]
    }
   ],
   "source": [
    "final_df['Demography_H_index'][final_df.publication_CR == \"DEMOGRAPHY\"] = 115\n",
    "final_df['Demography_Rank'][final_df.publication_CR == \"DEMOGRAPHY\"] = 2"
   ]
  },
  {
   "cell_type": "code",
   "execution_count": 35,
   "metadata": {},
   "outputs": [
    {
     "name": "stderr",
     "output_type": "stream",
     "text": [
      "/Library/Frameworks/Python.framework/Versions/3.7/lib/python3.7/site-packages/ipykernel_launcher.py:1: SettingWithCopyWarning: \n",
      "A value is trying to be set on a copy of a slice from a DataFrame\n",
      "\n",
      "See the caveats in the documentation: http://pandas.pydata.org/pandas-docs/stable/user_guide/indexing.html#returning-a-view-versus-a-copy\n",
      "  \"\"\"Entry point for launching an IPython kernel.\n",
      "/Library/Frameworks/Python.framework/Versions/3.7/lib/python3.7/site-packages/ipykernel_launcher.py:2: SettingWithCopyWarning: \n",
      "A value is trying to be set on a copy of a slice from a DataFrame\n",
      "\n",
      "See the caveats in the documentation: http://pandas.pydata.org/pandas-docs/stable/user_guide/indexing.html#returning-a-view-versus-a-copy\n",
      "  \n"
     ]
    }
   ],
   "source": [
    "final_df['Demography_H_index'][final_df.publication_CR == \"DEMOGRAPHY\"] = 115\n",
    "final_df['Demography_Rank'][final_df.publication_CR == \"DEMOGRAPHY\"] = 2"
   ]
  },
  {
   "cell_type": "code",
   "execution_count": 36,
   "metadata": {},
   "outputs": [
    {
     "name": "stderr",
     "output_type": "stream",
     "text": [
      "/Library/Frameworks/Python.framework/Versions/3.7/lib/python3.7/site-packages/ipykernel_launcher.py:1: SettingWithCopyWarning: \n",
      "A value is trying to be set on a copy of a slice from a DataFrame\n",
      "\n",
      "See the caveats in the documentation: http://pandas.pydata.org/pandas-docs/stable/user_guide/indexing.html#returning-a-view-versus-a-copy\n",
      "  \"\"\"Entry point for launching an IPython kernel.\n",
      "/Library/Frameworks/Python.framework/Versions/3.7/lib/python3.7/site-packages/ipykernel_launcher.py:2: SettingWithCopyWarning: \n",
      "A value is trying to be set on a copy of a slice from a DataFrame\n",
      "\n",
      "See the caveats in the documentation: http://pandas.pydata.org/pandas-docs/stable/user_guide/indexing.html#returning-a-view-versus-a-copy\n",
      "  \n",
      "/Library/Frameworks/Python.framework/Versions/3.7/lib/python3.7/site-packages/ipykernel_launcher.py:4: SettingWithCopyWarning: \n",
      "A value is trying to be set on a copy of a slice from a DataFrame\n",
      "\n",
      "See the caveats in the documentation: http://pandas.pydata.org/pandas-docs/stable/user_guide/indexing.html#returning-a-view-versus-a-copy\n",
      "  after removing the cwd from sys.path.\n",
      "/Library/Frameworks/Python.framework/Versions/3.7/lib/python3.7/site-packages/ipykernel_launcher.py:5: SettingWithCopyWarning: \n",
      "A value is trying to be set on a copy of a slice from a DataFrame\n",
      "\n",
      "See the caveats in the documentation: http://pandas.pydata.org/pandas-docs/stable/user_guide/indexing.html#returning-a-view-versus-a-copy\n",
      "  \"\"\"\n"
     ]
    }
   ],
   "source": [
    "final_df['Social_Sciences_H_index'][final_df.publication_CR == \"Social Science & Medicine\"] = 213\n",
    "final_df['Social_Sciences_Rank'][final_df.publication_CR == \"Social Science & Medicine\"] = 188\n",
    "\n",
    "final_df['Social_Sciences_H_index'][final_df.publication_CR == \"Computers & Education\"] = 135\n",
    "final_df['Social_Sciences_Rank'][final_df.publication_CR == \"Computers & Education\"] = 149"
   ]
  },
  {
   "cell_type": "code",
   "execution_count": 37,
   "metadata": {},
   "outputs": [
    {
     "name": "stderr",
     "output_type": "stream",
     "text": [
      "/Library/Frameworks/Python.framework/Versions/3.7/lib/python3.7/site-packages/ipykernel_launcher.py:1: SettingWithCopyWarning: \n",
      "A value is trying to be set on a copy of a slice from a DataFrame\n",
      "\n",
      "See the caveats in the documentation: http://pandas.pydata.org/pandas-docs/stable/user_guide/indexing.html#returning-a-view-versus-a-copy\n",
      "  \"\"\"Entry point for launching an IPython kernel.\n",
      "/Library/Frameworks/Python.framework/Versions/3.7/lib/python3.7/site-packages/ipykernel_launcher.py:2: SettingWithCopyWarning: \n",
      "A value is trying to be set on a copy of a slice from a DataFrame\n",
      "\n",
      "See the caveats in the documentation: http://pandas.pydata.org/pandas-docs/stable/user_guide/indexing.html#returning-a-view-versus-a-copy\n",
      "  \n",
      "/Library/Frameworks/Python.framework/Versions/3.7/lib/python3.7/site-packages/ipykernel_launcher.py:4: SettingWithCopyWarning: \n",
      "A value is trying to be set on a copy of a slice from a DataFrame\n",
      "\n",
      "See the caveats in the documentation: http://pandas.pydata.org/pandas-docs/stable/user_guide/indexing.html#returning-a-view-versus-a-copy\n",
      "  after removing the cwd from sys.path.\n",
      "/Library/Frameworks/Python.framework/Versions/3.7/lib/python3.7/site-packages/ipykernel_launcher.py:5: SettingWithCopyWarning: \n",
      "A value is trying to be set on a copy of a slice from a DataFrame\n",
      "\n",
      "See the caveats in the documentation: http://pandas.pydata.org/pandas-docs/stable/user_guide/indexing.html#returning-a-view-versus-a-copy\n",
      "  \"\"\"\n",
      "/Library/Frameworks/Python.framework/Versions/3.7/lib/python3.7/site-packages/ipykernel_launcher.py:7: SettingWithCopyWarning: \n",
      "A value is trying to be set on a copy of a slice from a DataFrame\n",
      "\n",
      "See the caveats in the documentation: http://pandas.pydata.org/pandas-docs/stable/user_guide/indexing.html#returning-a-view-versus-a-copy\n",
      "  import sys\n",
      "/Library/Frameworks/Python.framework/Versions/3.7/lib/python3.7/site-packages/ipykernel_launcher.py:8: SettingWithCopyWarning: \n",
      "A value is trying to be set on a copy of a slice from a DataFrame\n",
      "\n",
      "See the caveats in the documentation: http://pandas.pydata.org/pandas-docs/stable/user_guide/indexing.html#returning-a-view-versus-a-copy\n",
      "  \n"
     ]
    }
   ],
   "source": [
    "final_df['Econ_Finance_H_index'][final_df.publication_CR == \"The Journal of Finance\"] = 264\n",
    "final_df['Econ_Finance_Rank'][final_df.publication_CR == \"The Journal of Finance\"] = 3\n",
    "\n",
    "final_df['Econ_Finance_H_index'][final_df.publication_CR == \"The Quarterly Journal of Economics\"] = 228\n",
    "final_df['Econ_Finance_Rank'][final_df.publication_CR == \"The Quarterly Journal of Economics\"] = 1\n",
    "\n",
    "final_df['Econ_Finance_H_index'][final_df.publication_CR == \"The Review of Financial Studies\"] = 157\n",
    "final_df['Econ_Finance_Rank'][final_df.publication_CR == \"The Review of Financial Studies\"] = 9\n"
   ]
  },
  {
   "cell_type": "code",
   "execution_count": 38,
   "metadata": {},
   "outputs": [
    {
     "name": "stderr",
     "output_type": "stream",
     "text": [
      "/Library/Frameworks/Python.framework/Versions/3.7/lib/python3.7/site-packages/ipykernel_launcher.py:1: SettingWithCopyWarning: \n",
      "A value is trying to be set on a copy of a slice from a DataFrame\n",
      "\n",
      "See the caveats in the documentation: http://pandas.pydata.org/pandas-docs/stable/user_guide/indexing.html#returning-a-view-versus-a-copy\n",
      "  \"\"\"Entry point for launching an IPython kernel.\n",
      "/Library/Frameworks/Python.framework/Versions/3.7/lib/python3.7/site-packages/ipykernel_launcher.py:2: SettingWithCopyWarning: \n",
      "A value is trying to be set on a copy of a slice from a DataFrame\n",
      "\n",
      "See the caveats in the documentation: http://pandas.pydata.org/pandas-docs/stable/user_guide/indexing.html#returning-a-view-versus-a-copy\n",
      "  \n",
      "/Library/Frameworks/Python.framework/Versions/3.7/lib/python3.7/site-packages/ipykernel_launcher.py:4: SettingWithCopyWarning: \n",
      "A value is trying to be set on a copy of a slice from a DataFrame\n",
      "\n",
      "See the caveats in the documentation: http://pandas.pydata.org/pandas-docs/stable/user_guide/indexing.html#returning-a-view-versus-a-copy\n",
      "  after removing the cwd from sys.path.\n",
      "/Library/Frameworks/Python.framework/Versions/3.7/lib/python3.7/site-packages/ipykernel_launcher.py:5: SettingWithCopyWarning: \n",
      "A value is trying to be set on a copy of a slice from a DataFrame\n",
      "\n",
      "See the caveats in the documentation: http://pandas.pydata.org/pandas-docs/stable/user_guide/indexing.html#returning-a-view-versus-a-copy\n",
      "  \"\"\"\n",
      "/Library/Frameworks/Python.framework/Versions/3.7/lib/python3.7/site-packages/ipykernel_launcher.py:7: SettingWithCopyWarning: \n",
      "A value is trying to be set on a copy of a slice from a DataFrame\n",
      "\n",
      "See the caveats in the documentation: http://pandas.pydata.org/pandas-docs/stable/user_guide/indexing.html#returning-a-view-versus-a-copy\n",
      "  import sys\n",
      "/Library/Frameworks/Python.framework/Versions/3.7/lib/python3.7/site-packages/ipykernel_launcher.py:8: SettingWithCopyWarning: \n",
      "A value is trying to be set on a copy of a slice from a DataFrame\n",
      "\n",
      "See the caveats in the documentation: http://pandas.pydata.org/pandas-docs/stable/user_guide/indexing.html#returning-a-view-versus-a-copy\n",
      "  \n"
     ]
    }
   ],
   "source": [
    "final_df['Business_Management_H_index'][final_df.publication_CR == \"The Journal of Finance\"] = 264\n",
    "final_df['Business_Management_Rank'][final_df.publication_CR == \"The Journal of Finance\"] = 1\n",
    "\n",
    "final_df['Econ_Finance_H_index'][final_df.publication_CR == \"The Review of Financial Studies\"] = 157\n",
    "final_df['Econ_Finance_Rank'][final_df.publication_CR == \"The Review of Financial Studies\"] = 5\n",
    "\n",
    "final_df['Econ_Finance_H_index'][final_df.publication_CR == \"The Leadership Quarterly\"] = 132\n",
    "final_df['Econ_Finance_Rank'][final_df.publication_CR == \"The Leadership Quarterly\"] = 50"
   ]
  },
  {
   "cell_type": "code",
   "execution_count": 39,
   "metadata": {},
   "outputs": [
    {
     "name": "stderr",
     "output_type": "stream",
     "text": [
      "/Library/Frameworks/Python.framework/Versions/3.7/lib/python3.7/site-packages/ipykernel_launcher.py:1: SettingWithCopyWarning: \n",
      "A value is trying to be set on a copy of a slice from a DataFrame\n",
      "\n",
      "See the caveats in the documentation: http://pandas.pydata.org/pandas-docs/stable/user_guide/indexing.html#returning-a-view-versus-a-copy\n",
      "  \"\"\"Entry point for launching an IPython kernel.\n",
      "/Library/Frameworks/Python.framework/Versions/3.7/lib/python3.7/site-packages/ipykernel_launcher.py:2: SettingWithCopyWarning: \n",
      "A value is trying to be set on a copy of a slice from a DataFrame\n",
      "\n",
      "See the caveats in the documentation: http://pandas.pydata.org/pandas-docs/stable/user_guide/indexing.html#returning-a-view-versus-a-copy\n",
      "  \n"
     ]
    }
   ],
   "source": [
    "final_df['Public_Admin_H_index'][final_df.publication_CR == \"JOURNAL OF PUBLIC ADMINISTRATION RESEARCH AND THEORY\"] = 94\n",
    "final_df['Public_Admin_Rank'][final_df.publication_CR == \"JOURNAL OF PUBLIC ADMINISTRATION RESEARCH AND THEORY\"] = 2"
   ]
  },
  {
   "cell_type": "code",
   "execution_count": 40,
   "metadata": {},
   "outputs": [],
   "source": [
    "final_df.to_csv('Final_author_list_withRK_0506_5.csv')"
   ]
  },
  {
   "cell_type": "code",
   "execution_count": 13,
   "metadata": {},
   "outputs": [
    {
     "data": {
      "text/plain": [
       "16"
      ]
     },
     "execution_count": 13,
     "metadata": {},
     "output_type": "execute_result"
    }
   ],
   "source": []
  },
  {
   "cell_type": "code",
   "execution_count": 42,
   "metadata": {},
   "outputs": [
    {
     "data": {
      "text/plain": [
       "312"
      ]
     },
     "execution_count": 42,
     "metadata": {},
     "output_type": "execute_result"
    }
   ],
   "source": []
  },
  {
   "cell_type": "code",
   "execution_count": null,
   "metadata": {},
   "outputs": [],
   "source": []
  }
 ],
 "metadata": {
  "kernelspec": {
   "display_name": "Python 3",
   "language": "python",
   "name": "python3"
  },
  "language_info": {
   "codemirror_mode": {
    "name": "ipython",
    "version": 3
   },
   "file_extension": ".py",
   "mimetype": "text/x-python",
   "name": "python",
   "nbconvert_exporter": "python",
   "pygments_lexer": "ipython3",
   "version": "3.7.4"
  }
 },
 "nbformat": 4,
 "nbformat_minor": 2
}
