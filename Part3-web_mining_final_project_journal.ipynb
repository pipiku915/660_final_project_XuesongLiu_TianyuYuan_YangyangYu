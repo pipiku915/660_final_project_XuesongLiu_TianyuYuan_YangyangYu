{
 "cells": [
  {
   "cell_type": "code",
   "execution_count": null,
   "metadata": {},
   "outputs": [],
   "source": [
    "# ***************code description -- Part 3**********************#\n",
    "# 1 task is completed in this part:\n",
    "#add journal ranking and journal h-index for each paper into final file \n",
    "# the data merging is conducted using the full name hard-matching of the journal names.\n",
    "\n",
    "#  after run the code below, output file 'final_author_list_withRanking_0428.csv' is generated."
   ]
  },
  {
   "cell_type": "code",
   "execution_count": 1,
   "metadata": {},
   "outputs": [],
   "source": [
    "import pandas as pd\n",
    "import re\n",
    "import pandasql as ps"
   ]
  },
  {
   "cell_type": "code",
   "execution_count": 3,
   "metadata": {},
   "outputs": [
    {
     "name": "stdout",
     "output_type": "stream",
     "text": [
      "['title_CR', 'author_last_CR', 'author_first_CR', 'pub_year_CR', 'DOI_CR', 'ISSN_CR', 'publication_CR', 'pub_short', 'publication_standard', 'paper_id', 'source_WOS', 'author_full', 'title_WOS', 'publication_WOS', 'language', 'keywords', 'keywords_plus', 'abstract', 'author_address', 'reprint_address', 'author_email', 'funding', 'publisher', 'publisher_address', 'ISSN_WOS', 'eISSN', 'pub_year_WOS', 'volume', 'issue', 'DOI_WOS', 'WOS_category', 'category', 'accession_number', 'pg', 'author_last_WOS', 'author_first_WOS', 'published', 'pdf_filename', 'claim2_abstract', 'coded_claim2', 'claim2_pg', 'claim2_start', 'claim2_box', 'claim3a_concretehyp', 'coded_claim3a', 'claim3a_pg', 'claim3a_start', 'claim3a_box', 'claim3b_testspec', 'coded_claim3b', 'claim3b_pg', 'claim3b_start', 'claim3b_box', 'claim4_inftest', 'coded_claim4', 'claim4_pg', 'claim4_start', 'claim4_box', 'sample_size', 'coded_sample_size', 'sample_size_pg', 'sample_size_start', 'sample_size_box', 'effect_size', 'coded_effect_size', 'effect_size_pg', 'effect_size_start', 'effect_size_box', 'p_value', 'coded_p_value', 'p_value_pg', 'p_value_start', 'p_value_box', 'corr_author', 'corr_email', 'version', 'xml', 'pdf', 'paper_ABSTRACT_VIEWS', 'paper_BOOKMARK_COUNT', 'paper_DOWNLOAD_COUNT', 'paper_EXPORTS_SAVES', 'paper_FULL_TEXT_VIEWS', 'paper_LINK_CLICK_COUNT', 'paper_LINK_OUTS', 'paper_READER_COUNT', 'paper_capture', 'paper_citation', 'paper_mention', 'paper_socialMedia', 'paper_usage', 'eid', 'paper_title', 'paper_creator', 'afid', 'affilname', 'affiliation_city', 'affiliation_country', 'paper_author_count', 'paper_author_names', 'paper_author_ids', 'paper_author_afids', 'paper_coverDate', 'paper_publicationName', 'paper_issn', 'paper_eIssn', 'paper_description', 'paper_authkeywords', 'paper_citedby_count', 'paper_openaccess', 'paper_fund_acr', 'paper_fund_no', 'paper_fund_sponsor', 'FirstAuthor_ID', 'FirstAuthor_AffiliationID', 'Current_Affiliation_Domain', 'author', 'author_firstName', 'author_lastName', 'author_citation_count', 'author_cited_by_count', 'author_document_count', 'author_h_index', 'history_affiliation_city', 'history_affiliation_country', 'history_affiliation_name', 'history_affiliation_org_URL', 'jounal_history_ISSN', 'jounal_history_name', 'FirstAuthor_Affiliation_Name', 'FirstAuthor_Affiliation_City', 'FirstAuthor_Affiliation_Country', 'Record_Index', 'CWUR_World_rank', 'CWUR_National_Rank', 'CWUR_Education_Quality', 'CWUR_Alumni_Employment', 'CWUR_Faculty_Quality', 'CWUR_Research_Performance', 'CWUR_Institution_Name', 'CWUR_Institution_country']\n"
     ]
    }
   ],
   "source": [
    "#######################################\n",
    "#section 1: import data\n",
    "####paper set\n",
    "paper_author_info_df = pd.read_csv('Final_author_list_withRK_0428.csv')\n",
    "paper_author_info_df_1 = paper_author_info_df.drop(['Unnamed: 0'] , axis='columns')\n",
    "print(list(paper_author_info_df_1.columns))\n",
    "paper_author_info_df1 = paper_author_info_df_1.apply(lambda x: x.str.strip() if x.dtype == \"object\" else x)\n",
    "# paper_author_info_df2 = paper_author_info_df1.drop('eIssn' , axis='columns')\n",
    "# print(paper_author_info_df2.head(5))\n"
   ]
  },
  {
   "cell_type": "code",
   "execution_count": 4,
   "metadata": {},
   "outputs": [
    {
     "name": "stdout",
     "output_type": "stream",
     "text": [
      "                   Psychology_Journal_Title  Psychology_H_index  \\\n",
      "0               Annual Review of Psychology                 216   \n",
      "1                    Psychological Bulletin                 272   \n",
      "2  Personality and Social Psychology Review                 134   \n",
      "\n",
      "   Psychology_Rank  \n",
      "0                1  \n",
      "1                2  \n",
      "2                3  \n"
     ]
    }
   ],
   "source": [
    "####journal ranking \n",
    "####year 2018 SJR: https://www.scimagojr.com/journalrank.php\n",
    "# #######part1: general level\n",
    "# economics general\n",
    "econ_fin_df = pd.read_csv('journal_ranking_data/Economics_Econometrics_and_Finance_general.csv', sep=';')\n",
    "econ_fin_df0 = econ_fin_df[['Title','H index', 'Rank']]\n",
    "econ_fin_df0 = econ_fin_df0.rename(columns = {\"Title\":\"Econ_Finance_Journal_Title\", 'H index': \"Econ_Finance_H_index\", 'Rank': 'Econ_Finance_Rank'}) \n",
    "econ_fin_df1 = econ_fin_df0.apply(lambda x: x.str.strip() if x.dtype == \"object\" else x)\n",
    "# print(econ_fin_df1.head(3))\n",
    "\n",
    "# business, management general\n",
    "bus_man_df = pd.read_csv('journal_ranking_data/ Business_Management_and_Accounting_general.csv', sep=';')\n",
    "bus_man_df0 = bus_man_df[['Title','H index', 'Rank']]\n",
    "bus_man_df0 = bus_man_df0.rename(columns = {\"Title\":\"Business_Management_Journal_Title\", 'H index': \"Business_Management_H_index\", 'Rank': 'Business_Management_Rank'}) \n",
    "bus_man_df1 = bus_man_df0.apply(lambda x: x.str.strip() if x.dtype == \"object\" else x)\n",
    "# print(bus_man_df1.head(3))\n",
    "\n",
    "# social sciences general\n",
    "social_sci_df = pd.read_csv('journal_ranking_data/Social_Sciences_general.csv', sep=';')\n",
    "social_sci_df0 = social_sci_df[['Title','H index', 'Rank']]\n",
    "social_sci_df0 = social_sci_df0.rename(columns = {\"Title\":\"Social_Sciences_Journal_Title\", 'H index': \"Social_Sciences_H_index\", 'Rank': 'Social_Sciences_Rank'}) \n",
    "social_sci_df1 = social_sci_df0.apply(lambda x: x.str.strip() if x.dtype == \"object\" else x)\n",
    "# print(social_sci_df1.head(3))\n",
    "\n",
    "# psychology general\n",
    "psychology_df = pd.read_csv('journal_ranking_data/Psychology_general.csv', sep=';')\n",
    "psychology_df0 = psychology_df[['Title','H index', 'Rank']]\n",
    "psychology_df0 = psychology_df0.rename(columns = {\"Title\":\"Psychology_Journal_Title\", 'H index': \"Psychology_H_index\", 'Rank': 'Psychology_Rank'}) \n",
    "psychology_df1 = psychology_df0.apply(lambda x: x.str.strip() if x.dtype == \"object\" else x)\n",
    "print(psychology_df1.head(3))"
   ]
  },
  {
   "cell_type": "code",
   "execution_count": 5,
   "metadata": {},
   "outputs": [
    {
     "name": "stdout",
     "output_type": "stream",
     "text": [
      "            Demography_Journal_Title  Demography_H_index  Demography_Rank\n",
      "0  Population and Development Review                  86                1\n",
      "1                         Demography                 115                2\n",
      "2           Developmental Psychology                 190                3\n"
     ]
    }
   ],
   "source": [
    "# #######part2: sub level\n",
    "# sub -- public administration\n",
    "pub_admin_df = pd.read_csv('journal_ranking_data/Public_Administration.csv', sep=';')\n",
    "pub_admin_df0 = pub_admin_df[['Title','H index', 'Rank']]\n",
    "pub_admin_df0 = pub_admin_df0.rename(columns = {\"Title\":\"Public_Admin_Journal_Title\", 'H index': \"Public_Admin_H_index\", 'Rank': 'Public_Admin_Rank'}) \n",
    "pub_admin_df1 = pub_admin_df0.apply(lambda x: x.str.strip() if x.dtype == \"object\" else x)\n",
    "# print(pub_admin_df1.head(3))\n",
    "\n",
    "# sub -- education\n",
    "edu_df = pd.read_csv('journal_ranking_data/Education.csv', sep=';')\n",
    "edu_df0 = edu_df[['Title','H index', 'Rank']]\n",
    "edu_df0 = edu_df0.rename(columns = {\"Title\":\"Education_Journal_Title\", 'H index': \"Education_H_index\", 'Rank': 'Education_Rank'}) \n",
    "edu_df1 = edu_df0.apply(lambda x: x.str.strip() if x.dtype == \"object\" else x)\n",
    "# print(edu_df1.head(3))\n",
    "\n",
    "# sub -- sociology and politics\n",
    "socio_political_df = pd.read_csv('journal_ranking_data/Sociology_and_Political_Science.csv', sep=';')\n",
    "socio_political_df0 = socio_political_df[['Title','H index', 'Rank']]\n",
    "socio_political_df0 = socio_political_df0.rename(columns = {\"Title\":\"Sociology_PoliticalSci_Journal_Title\", 'H index': \"Sociology_PoliticalSci_H_index\", 'Rank': 'Sociology_PoliticalSci_Rank'}) \n",
    "socio_political_df1 = socio_political_df0.apply(lambda x: x.str.strip() if x.dtype == \"object\" else x)\n",
    "# print(socio_political_df1.head(3))\n",
    "\n",
    "\n",
    "# sub -- demography\n",
    "demography_df = pd.read_csv('journal_ranking_data/Demography.csv', sep=';')\n",
    "demography_df0 = demography_df[['Title','H index', 'Rank']]\n",
    "demography_df0 = demography_df0.rename(columns = {\"Title\":\"Demography_Journal_Title\", 'H index': \"Demography_H_index\", 'Rank': 'Demography_Rank'}) \n",
    "demography_df1 = demography_df0.apply(lambda x: x.str.strip() if x.dtype == \"object\" else x)\n",
    "print(demography_df1.head(3))\n"
   ]
  },
  {
   "cell_type": "code",
   "execution_count": 7,
   "metadata": {},
   "outputs": [
    {
     "name": "stdout",
     "output_type": "stream",
     "text": [
      "['title_CR', 'author_last_CR', 'author_first_CR', 'pub_year_CR', 'DOI_CR', 'ISSN_CR', 'publication_CR', 'pub_short', 'publication_standard', 'paper_id', 'source_WOS', 'author_full', 'title_WOS', 'publication_WOS', 'language', 'keywords', 'keywords_plus', 'abstract', 'author_address', 'reprint_address', 'author_email', 'funding', 'publisher', 'publisher_address', 'ISSN_WOS', 'eISSN', 'pub_year_WOS', 'volume', 'issue', 'DOI_WOS', 'WOS_category', 'category', 'accession_number', 'pg', 'author_last_WOS', 'author_first_WOS', 'published', 'pdf_filename', 'claim2_abstract', 'coded_claim2', 'claim2_pg', 'claim2_start', 'claim2_box', 'claim3a_concretehyp', 'coded_claim3a', 'claim3a_pg', 'claim3a_start', 'claim3a_box', 'claim3b_testspec', 'coded_claim3b', 'claim3b_pg', 'claim3b_start', 'claim3b_box', 'claim4_inftest', 'coded_claim4', 'claim4_pg', 'claim4_start', 'claim4_box', 'sample_size', 'coded_sample_size', 'sample_size_pg', 'sample_size_start', 'sample_size_box', 'effect_size', 'coded_effect_size', 'effect_size_pg', 'effect_size_start', 'effect_size_box', 'p_value', 'coded_p_value', 'p_value_pg', 'p_value_start', 'p_value_box', 'corr_author', 'corr_email', 'version', 'xml', 'pdf', 'paper_ABSTRACT_VIEWS', 'paper_BOOKMARK_COUNT', 'paper_DOWNLOAD_COUNT', 'paper_EXPORTS_SAVES', 'paper_FULL_TEXT_VIEWS', 'paper_LINK_CLICK_COUNT', 'paper_LINK_OUTS', 'paper_READER_COUNT', 'paper_capture', 'paper_citation', 'paper_mention', 'paper_socialMedia', 'paper_usage', 'eid', 'paper_title', 'paper_creator', 'afid', 'affilname', 'affiliation_city', 'affiliation_country', 'paper_author_count', 'paper_author_names', 'paper_author_ids', 'paper_author_afids', 'paper_coverDate', 'paper_publicationName', 'paper_issn', 'paper_eIssn', 'paper_description', 'paper_authkeywords', 'paper_citedby_count', 'paper_openaccess', 'paper_fund_acr', 'paper_fund_no', 'paper_fund_sponsor', 'FirstAuthor_ID', 'FirstAuthor_AffiliationID', 'Current_Affiliation_Domain', 'author', 'author_firstName', 'author_lastName', 'author_citation_count', 'author_cited_by_count', 'author_document_count', 'author_h_index', 'history_affiliation_city', 'history_affiliation_country', 'history_affiliation_name', 'history_affiliation_org_URL', 'jounal_history_ISSN', 'jounal_history_name', 'FirstAuthor_Affiliation_Name', 'FirstAuthor_Affiliation_City', 'FirstAuthor_Affiliation_Country', 'Record_Index', 'CWUR_World_rank', 'CWUR_National_Rank', 'CWUR_Education_Quality', 'CWUR_Alumni_Employment', 'CWUR_Faculty_Quality', 'CWUR_Research_Performance', 'CWUR_Institution_Name', 'CWUR_Institution_country', 'Econ_Finance_H_index', 'Econ_Finance_Rank', 'Business_Management_H_index', 'Business_Management_Rank', 'Social_Sciences_H_index', 'Social_Sciences_Rank', 'Psychology_H_index', 'Psychology_Rank', 'Public_Admin_H_index', 'Public_Admin_Rank', 'Education_H_index', 'Education_Rank', 'Sociology_PoliticalSci_H_index', 'Sociology_PoliticalSci_Rank', 'Demography_H_index', 'Demography_Rank']\n",
      "2804\n"
     ]
    }
   ],
   "source": [
    "q4 = \"\"\"SELECT pau.*\n",
    "               , ecof.Econ_Finance_H_index, ecof.Econ_Finance_Rank\n",
    "               , bm.Business_Management_H_index, bm.Business_Management_Rank\n",
    "               , ss.Social_Sciences_H_index, ss.Social_Sciences_Rank\n",
    "               , psy.Psychology_H_index, psy.Psychology_Rank\n",
    "               , pad.Public_Admin_H_index, pad.Public_Admin_Rank\n",
    "               , edu.Education_H_index, edu.Education_Rank\n",
    "               , sp.Sociology_PoliticalSci_H_index, sp.Sociology_PoliticalSci_Rank\n",
    "               , de.Demography_H_index, de.Demography_Rank\n",
    "        FROM paper_author_info_df1 pau\n",
    "           LEFT JOIN econ_fin_df1 ecof on pau.publication_CR = ecof.Econ_Finance_Journal_Title\n",
    "           LEFT JOIN bus_man_df1 bm on pau.publication_CR = bm.Business_Management_Journal_Title\n",
    "           LEFT JOIN social_sci_df1 ss on pau.publication_CR = ss.Social_Sciences_Journal_Title\n",
    "           LEFT JOIN psychology_df1 psy on pau.publication_CR = psy.Psychology_Journal_Title\n",
    "           \n",
    "           LEFT JOIN pub_admin_df1 pad on pau.publication_CR = pad.Public_Admin_Journal_Title\n",
    "           LEFT JOIN edu_df1 edu on pau.publication_CR = edu.Education_Journal_Title\n",
    "           LEFT JOIN socio_political_df1 sp on pau.publication_CR = sp.Sociology_PoliticalSci_Journal_Title\n",
    "           LEFT JOIN demography_df1 de on pau.publication_CR = de.Demography_Journal_Title\n",
    "         \"\"\"\n",
    "\n",
    "merged_df_2 = ps.sqldf(q4, locals())\n",
    "print(list(merged_df_2.columns))\n",
    "print(len(merged_df_2))"
   ]
  },
  {
   "cell_type": "code",
   "execution_count": 9,
   "metadata": {},
   "outputs": [
    {
     "name": "stdout",
     "output_type": "stream",
     "text": [
      "2804\n"
     ]
    }
   ],
   "source": [
    "merged_df_2.to_csv(\"final_author_list_withRanking_0428.csv\")\n",
    "print(len(merged_df_2))"
   ]
  },
  {
   "cell_type": "code",
   "execution_count": null,
   "metadata": {},
   "outputs": [],
   "source": [
    "# q5 = \"\"\"SELECT pau.*\n",
    "# --               , ecof.Econ_Finance_H_index, ecof.Econ_Finance_Rank\n",
    "# --               , bm.Business_Management_H_index, bm.Business_Management_Rank\n",
    "#                , ss.Social_Sciences_H_index, ss.Social_Sciences_Rank\n",
    "# --               , psy.Psychology_H_index, psy.Psychology_Rank\n",
    "# --        FROM  econ_fin_df1 ecof\n",
    "# --        FROM  bus_man_df1 bm\n",
    "#           FROM  social_sci_df1 ss\n",
    "#            lEFT JOIN paper_author_info_df2 pau on pau.publication_CR = ss.Social_Sciences_Journal_Title\n",
    "\n",
    "#          \"\"\"\n",
    "\n",
    "# merged_df_3 = ps.sqldf(q5, locals())\n",
    "\n",
    "# print(len(merged_df_3))"
   ]
  },
  {
   "cell_type": "code",
   "execution_count": null,
   "metadata": {},
   "outputs": [],
   "source": []
  },
  {
   "cell_type": "code",
   "execution_count": null,
   "metadata": {},
   "outputs": [],
   "source": [
    "# econ:1450\n",
    "# business: 1944"
   ]
  }
 ],
 "metadata": {
  "kernelspec": {
   "display_name": "Python 3",
   "language": "python",
   "name": "python3"
  },
  "language_info": {
   "codemirror_mode": {
    "name": "ipython",
    "version": 3
   },
   "file_extension": ".py",
   "mimetype": "text/x-python",
   "name": "python",
   "nbconvert_exporter": "python",
   "pygments_lexer": "ipython3",
   "version": "3.7.4"
  }
 },
 "nbformat": 4,
 "nbformat_minor": 4
}
